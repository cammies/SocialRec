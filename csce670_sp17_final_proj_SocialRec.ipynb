{
 "cells": [
  {
   "cell_type": "markdown",
   "metadata": {},
   "source": [
    "#### CSCE 670 :: Information Storage and Retrieval :: Texas A&M University :: Spring 2017\n",
    "\n",
    "\n",
    "# Final Project - SocialRec"
   ]
  },
  {
   "cell_type": "markdown",
   "metadata": {},
   "source": [
    "## Extract \"Good\" Data"
   ]
  },
  {
   "cell_type": "code",
   "execution_count": 4,
   "metadata": {
    "collapsed": true
   },
   "outputs": [],
   "source": [
    "# Add code here"
   ]
  },
  {
   "cell_type": "markdown",
   "metadata": {},
   "source": [
    "## Biclustering"
   ]
  },
  {
   "cell_type": "code",
   "execution_count": 1,
   "metadata": {
    "collapsed": true
   },
   "outputs": [],
   "source": [
    "# Add code here"
   ]
  },
  {
   "cell_type": "markdown",
   "metadata": {},
   "source": [
    "## Similarity"
   ]
  },
  {
   "cell_type": "code",
   "execution_count": 2,
   "metadata": {
    "collapsed": true
   },
   "outputs": [],
   "source": [
    "# Add code here"
   ]
  },
  {
   "cell_type": "markdown",
   "metadata": {},
   "source": [
    "## Gradient Descent"
   ]
  },
  {
   "cell_type": "code",
   "execution_count": 42,
   "metadata": {
    "collapsed": false
   },
   "outputs": [
    {
     "ename": "SyntaxError",
     "evalue": "invalid syntax (<ipython-input-42-564b7c8c1eb8>, line 22)",
     "output_type": "error",
     "traceback": [
      "\u001b[0;36m  File \u001b[0;32m\"<ipython-input-42-564b7c8c1eb8>\"\u001b[0;36m, line \u001b[0;32m22\u001b[0m\n\u001b[0;31m    term1 =\u001b[0m\n\u001b[0m            ^\u001b[0m\n\u001b[0;31mSyntaxError\u001b[0m\u001b[0;31m:\u001b[0m invalid syntax\n"
     ]
    }
   ],
   "source": [
    "# Add code here\n",
    "\n",
    "import numpy;\n",
    "\n",
    "# This is the objective function implementation\n",
    "\n",
    "# This is dlds\n",
    "def DLDS(userUserSim, userItemSim, userFeatureVectors, itemFeatureVectors, userTagsForItem):\n",
    "    1\n",
    "    # Sum from j = 1 to n\n",
    "    \n",
    "    # Sum over friends of user based on \n",
    "    \n",
    "\n",
    "# This is dldv\n",
    "def DLDV(userUserSim, userItemSim, userFeatureVectors, itemFeatureVectors, userTagsForItem):\n",
    "    # Sum from i = 1 to m\n",
    "    \n",
    "    totalSum = 0.0;\n",
    "    for j in range (1, m):\n",
    "        # Iij * (Si_Transpose * Vj - Tij)*Si \n",
    "        term1 = I[i][j] * (userFeatureVectors[i].Transpose() * V[j] - T[i][j]) * uise\n",
    "        # lambda_2*Vj\n",
    "        term2 = lambda2 * itemFeatureVectors[i];\n",
    "        \n",
    "        totalSum = totalSum + term1 + term2;"
   ]
  },
  {
   "cell_type": "code",
   "execution_count": 40,
   "metadata": {
    "collapsed": false
   },
   "outputs": [
    {
     "ename": "NameError",
     "evalue": "name 'R' is not defined",
     "output_type": "error",
     "traceback": [
      "\u001b[0;31m---------------------------------------------------------------------------\u001b[0m",
      "\u001b[0;31mNameError\u001b[0m                                 Traceback (most recent call last)",
      "\u001b[0;32m<ipython-input-40-27b14f1b352c>\u001b[0m in \u001b[0;36m<module>\u001b[0;34m()\u001b[0m\n\u001b[1;32m     75\u001b[0m \u001b[1;31m# We use dimensionality = 80 from paper\u001b[0m\u001b[1;33m\u001b[0m\u001b[1;33m\u001b[0m\u001b[0m\n\u001b[1;32m     76\u001b[0m \u001b[1;33m\u001b[0m\u001b[0m\n\u001b[0;32m---> 77\u001b[0;31m \u001b[0mRSboSN\u001b[0m\u001b[1;33m(\u001b[0m\u001b[0mR\u001b[0m\u001b[1;33m,\u001b[0m \u001b[1;36m0.1\u001b[0m\u001b[1;33m,\u001b[0m \u001b[1;36m0.01\u001b[0m\u001b[1;33m,\u001b[0m \u001b[1;36m0.01\u001b[0m\u001b[1;33m,\u001b[0m \u001b[1;36m1000\u001b[0m\u001b[1;33m,\u001b[0m \u001b[0mS\u001b[0m\u001b[1;33m,\u001b[0m \u001b[0mL\u001b[0m\u001b[1;33m)\u001b[0m\u001b[1;33m;\u001b[0m\u001b[1;33m\u001b[0m\u001b[0m\n\u001b[0m",
      "\u001b[0;31mNameError\u001b[0m: name 'R' is not defined"
     ]
    }
   ],
   "source": [
    "# Add code here\n",
    "from collections import defaultdict;\n",
    "\n",
    "# Important symbols to note\n",
    "# U: The user list\n",
    "# T: The user-item rating matrix\n",
    "# Ri: The tag vector of user i\n",
    "# F(i): The friend list of user i\n",
    "# I the item list\n",
    "# Si: The vector of user i\n",
    "# R: the item-tag matrix\n",
    "# Vk: The vector of item j\n",
    "\n",
    "\n",
    "# Ok, here I implement the gradient decent algorithm for learning.\n",
    "# This uses the previous box's learning algorithm\n",
    "\n",
    "numUsers = 10;\n",
    "numItems = 20;\n",
    "ku = 5;\n",
    "\n",
    "# R: \n",
    "# learningRate: how quickly convergence happens\n",
    "# S: The similarities between users\n",
    "# l: The correlations between users and items\n",
    "\n",
    "# We need to have the tag matrix\n",
    "# numUsers x numItems x tagVector of user on item\n",
    "T = defaultdict(lambda : defaultdict(list)); \n",
    "\n",
    "T[1][1].append(\"test tag\");\n",
    "\n",
    "\n",
    "def RSboSN(R, learningRate, alpha, beta, maxN, S, l):\n",
    "    \n",
    "    # Initialize Sku and Vkv with random values\n",
    "    # These are the calculated feature vectors\n",
    "    # ku: the feature dimensions of user\n",
    "    # kv: the feature dimensions of item\n",
    "    \n",
    "    \n",
    "    currentIteration = 0;\n",
    "    \n",
    "    while currentIteration < maxN:\n",
    "        for i in range(0, len(T)):\n",
    "            for j in range(0, len(T[i])):\n",
    "                Tij = T[i][j];\n",
    "                \n",
    "                # Calculate the derivitive of L with respect to S\n",
    "                dlds = 1;\n",
    "                \n",
    "                # For each u from 1 to ku\n",
    "                for u in range(1, ku) :\n",
    "                    S[i][u] = S[i][u] - (learningRate * dlds);\n",
    "                \n",
    "                # Calculate the derivitive of L with respect to S\n",
    "                dldv = 1;\n",
    "                \n",
    "                # For each u from 1 to ku\n",
    "                for v in range(1, kv) :\n",
    "                    V[i][v] = V[i][v] - (learningRate * dldv);\n",
    "        \n",
    "        currentIteration = currentIteration+1;\n",
    "\n",
    "# Similarity scores between users\n",
    "S = numpy.ones((numUsers, numUsers));\n",
    "\n",
    "# Correlations between users and items\n",
    "l = numpy.ones((numUsers, numItems));\n",
    "\n",
    "# We use:\n",
    "# Num iterations = 1000\n",
    "# Alpha = 0.01 From paper\n",
    "# Beta = 0.01 From paper\n",
    "# We use dimensionality = 80 from paper\n",
    "\n",
    "R = \n",
    "\n",
    "\n",
    "RSboSN(R, 0.1, 0.01, 0.01, 1000, S, L);"
   ]
  },
  {
   "cell_type": "code",
   "execution_count": null,
   "metadata": {
    "collapsed": true
   },
   "outputs": [],
   "source": []
  }
 ],
 "metadata": {
  "anaconda-cloud": {},
  "kernelspec": {
   "display_name": "Python [conda env:cs670]",
   "language": "python",
   "name": "conda-env-cs670-py"
  },
  "language_info": {
   "codemirror_mode": {
    "name": "ipython",
    "version": 2
   },
   "file_extension": ".py",
   "mimetype": "text/x-python",
   "name": "python",
   "nbconvert_exporter": "python",
   "pygments_lexer": "ipython2",
   "version": "2.7.13"
  }
 },
 "nbformat": 4,
 "nbformat_minor": 2
}
